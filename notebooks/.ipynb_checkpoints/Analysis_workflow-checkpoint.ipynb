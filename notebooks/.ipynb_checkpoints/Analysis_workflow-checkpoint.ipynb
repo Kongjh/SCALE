{
 "cells": [
  {
   "cell_type": "markdown",
   "metadata": {},
   "source": [
    "## Analysis workflow  \n",
    "1. visualization of feature embeddings\n",
    "2. confusion matrix\n",
    "3. data imputation analysis\n",
    "3. calculate feature specifity\n",
    "5. \n",
    "6. "
   ]
  },
  {
   "cell_type": "code",
   "execution_count": 7,
   "metadata": {},
   "outputs": [],
   "source": [
    "import pandas as pd\n",
    "import numpy as np\n",
    "# import matplotlib.pyplot as plt\n",
    "\n",
    "from scale.plot import *\n",
    "from scale.utils import *\n",
    "\n",
    "%load_ext autoreload\n",
    "%autoreload 2\n",
    "%matplotlib inline"
   ]
  },
  {
   "cell_type": "markdown",
   "metadata": {},
   "source": [
    "### SCALE output files  \n",
    "1. feature.txt \n",
    "2. cluster_assignments.txt\n",
    "3. impute_data.txt\n",
    "4. specific_peaks"
   ]
  },
  {
   "cell_type": "code",
   "execution_count": null,
   "metadata": {},
   "outputs": [],
   "source": [
    "input_dir = '../data/Leukemia/'\n",
    "out_dir = '../results/Leukemia/'\n",
    "feature_file = out_dir+'feature.txt'\n",
    "assignments = out_dir+'cluster_assignments.txt'\n",
    "impute_data = out_dir+'impute_data.txt'\n",
    "\n",
    "raw_data = input_dir + 'data.txt'\n",
    "reference_file = input_dir + 'labels.txt'"
   ]
  },
  {
   "cell_type": "markdown",
   "metadata": {},
   "source": [
    "## Feature embedding"
   ]
  },
  {
   "cell_type": "code",
   "execution_count": null,
   "metadata": {},
   "outputs": [],
   "source": [
    "feature = pd.read_csv(feature_file, sep='\\t', index_col=0, header=None, sep='\\t')"
   ]
  }
 ],
 "metadata": {
  "kernelspec": {
   "display_name": "Python 3",
   "language": "python",
   "name": "python3"
  },
  "language_info": {
   "codemirror_mode": {
    "name": "ipython",
    "version": 3
   },
   "file_extension": ".py",
   "mimetype": "text/x-python",
   "name": "python",
   "nbconvert_exporter": "python",
   "pygments_lexer": "ipython3",
   "version": "3.6.3"
  }
 },
 "nbformat": 4,
 "nbformat_minor": 2
}
